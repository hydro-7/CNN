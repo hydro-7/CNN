{
  "nbformat": 4,
  "nbformat_minor": 0,
  "metadata": {
    "colab": {
      "provenance": [],
      "gpuType": "T4",
      "authorship_tag": "ABX9TyOa1coFhsDF578bgs9w6mjW",
      "include_colab_link": true
    },
    "kernelspec": {
      "name": "python3",
      "display_name": "Python 3"
    },
    "language_info": {
      "name": "python"
    },
    "accelerator": "GPU"
  },
  "cells": [
    {
      "cell_type": "markdown",
      "metadata": {
        "id": "view-in-github",
        "colab_type": "text"
      },
      "source": [
        "<a href=\"https://colab.research.google.com/github/hydro-7/CNN/blob/main/NN_Intro3.ipynb\" target=\"_parent\"><img src=\"https://colab.research.google.com/assets/colab-badge.svg\" alt=\"Open In Colab\"/></a>"
      ]
    },
    {
      "cell_type": "markdown",
      "source": [
        "# **Importing Libraries**"
      ],
      "metadata": {
        "id": "JkxVipnzi4Ac"
      }
    },
    {
      "cell_type": "code",
      "execution_count": 1,
      "metadata": {
        "id": "MtZPQjM4h9r2"
      },
      "outputs": [],
      "source": [
        "import torch\n",
        "from torch import nn\n",
        "import matplotlib.pyplot as plt"
      ]
    },
    {
      "cell_type": "markdown",
      "source": [
        "# **Making dataset with linear regression**"
      ],
      "metadata": {
        "id": "TGRnMXLBi7Di"
      }
    },
    {
      "cell_type": "code",
      "source": [
        "# Create *known* parameters\n",
        "weight = 0.7\n",
        "bias = 0.3\n",
        "\n",
        "# Create\n",
        "start = 0\n",
        "end = 1\n",
        "step = 0.02\n",
        "X = torch.arange(start, end, step).unsqueeze(dim=1)\n",
        "y = weight * X + bias\n",
        "\n",
        "X[:10], y[:10],"
      ],
      "metadata": {
        "colab": {
          "base_uri": "https://localhost:8080/"
        },
        "id": "wgcVuo2si2pH",
        "outputId": "30006833-be2f-4a0e-c194-647e82e2363d"
      },
      "execution_count": 2,
      "outputs": [
        {
          "output_type": "execute_result",
          "data": {
            "text/plain": [
              "(tensor([[0.0000],\n",
              "         [0.0200],\n",
              "         [0.0400],\n",
              "         [0.0600],\n",
              "         [0.0800],\n",
              "         [0.1000],\n",
              "         [0.1200],\n",
              "         [0.1400],\n",
              "         [0.1600],\n",
              "         [0.1800]]),\n",
              " tensor([[0.3000],\n",
              "         [0.3140],\n",
              "         [0.3280],\n",
              "         [0.3420],\n",
              "         [0.3560],\n",
              "         [0.3700],\n",
              "         [0.3840],\n",
              "         [0.3980],\n",
              "         [0.4120],\n",
              "         [0.4260]]))"
            ]
          },
          "metadata": {},
          "execution_count": 2
        }
      ]
    },
    {
      "cell_type": "markdown",
      "source": [
        "# **Create a train & test split**"
      ],
      "metadata": {
        "id": "iu4M9MlqjDUX"
      }
    },
    {
      "cell_type": "code",
      "source": [
        "train_split = int(0.8 * len(X))\n",
        "X_train, y_train, = X[:train_split], y[:train_split]\n",
        "X_test, y_test = X[train_split:], y[train_split:]\n",
        "len(X_train), len(y_train), len(X_test), len(y_test)"
      ],
      "metadata": {
        "colab": {
          "base_uri": "https://localhost:8080/"
        },
        "id": "OEWbNVyGjFZL",
        "outputId": "c5f144f4-635d-4a2a-a8e0-9b2bb8fcdf37"
      },
      "execution_count": 3,
      "outputs": [
        {
          "output_type": "execute_result",
          "data": {
            "text/plain": [
              "(40, 40, 10, 10)"
            ]
          },
          "metadata": {},
          "execution_count": 3
        }
      ]
    },
    {
      "cell_type": "code",
      "source": [
        "def plot_predictions(train_data = X_train,\n",
        "                     train_labels = y_train,\n",
        "                     test_data = X_test,\n",
        "                     test_labels = y_test,\n",
        "                     predictions = None):\n",
        "  \"\"\"\n",
        "  plots tarining data, test data and compare predictions\n",
        "  \"\"\"\n",
        "  plt.figure(figsize = (10,7))\n",
        "  #plot training data in blue\n",
        "  plt.scatter(train_data, train_labels, c = \"b\", s = 4, label = \"training data\")\n",
        "\n",
        "  # Plot test data in green\n",
        "  plt.scatter(test_data, test_labels, c = \"g\", s=4, label = \"test data\")\n",
        "\n",
        "  # Are there predictions?\n",
        "  if predictions is not None:\n",
        "    #Plot the predictions if they exist\n",
        "    plt.scatter(test_data, predictions, c=\"r\", s = 4, label = \"predictions\")\n",
        "\n",
        "  #show the legend\n",
        "  plt.legend(prop = {\"size\": 14})\n",
        "\n",
        "plot_predictions()"
      ],
      "metadata": {
        "colab": {
          "base_uri": "https://localhost:8080/",
          "height": 599
        },
        "id": "4taJXB5BjOsn",
        "outputId": "0bfbb158-224a-4d5a-f400-6a4261cbe352"
      },
      "execution_count": 4,
      "outputs": [
        {
          "output_type": "display_data",
          "data": {
            "text/plain": [
              "<Figure size 1000x700 with 1 Axes>"
            ],
            "image/png": "[encoded data removed]"
          },
          "metadata": {}
        }
      ]
    },
    {
      "cell_type": "markdown",
      "source": [
        "# **Building model**"
      ],
      "metadata": {
        "id": "rrAgBHMvjc_L"
      }
    },
    {
      "cell_type": "code",
      "source": [
        "class LenearRegressionModel(nn.Module):\n",
        "  def __init__(self):\n",
        "    super().__init__()\n",
        "    self.weights = nn.Parameter(torch.rand(1,\n",
        "                                           requires_grad = True,\n",
        "                                           dtype = torch.float))\n",
        "    self.bias = nn.Parameter(torch.rand(1,\n",
        "                                        requires_grad = True,\n",
        "                                        dtype = torch.float))\n",
        "\n",
        "  def forward(self, x: torch.Tensor) -> torch.Tensor:\n",
        "    return self.weights * x + self.bias\n",
        "\n",
        "# grad -> torch.autograd implements grad descent to get next values of the parameters (i.e, weights & bias)"
      ],
      "metadata": {
        "id": "ZEbPgZibjh__"
      },
      "execution_count": 5,
      "outputs": []
    },
    {
      "cell_type": "code",
      "source": [
        "torch.manual_seed(42)\n",
        "\n",
        "model_0 = LenearRegressionModel()\n",
        "\n",
        "list(model_0.parameters())"
      ],
      "metadata": {
        "colab": {
          "base_uri": "https://localhost:8080/"
        },
        "id": "c0i1X2dWpkrT",
        "outputId": "5be79b83-1b0b-43e3-99c4-420ec4bf1913"
      },
      "execution_count": 6,
      "outputs": [
        {
          "output_type": "execute_result",
          "data": {
            "text/plain": [
              "[Parameter containing:\n",
              " tensor([0.8823], requires_grad=True),\n",
              " Parameter containing:\n",
              " tensor([0.9150], requires_grad=True)]"
            ]
          },
          "metadata": {},
          "execution_count": 6
        }
      ]
    },
    {
      "cell_type": "markdown",
      "source": [
        "# **Making predictions with the randomized initial values :**"
      ],
      "metadata": {
        "id": "kH4D-2H8p0lL"
      }
    },
    {
      "cell_type": "code",
      "source": [
        "with torch.inference_mode():\n",
        "  y_preds = model_0(X_test)\n",
        "\n",
        "y_preds\n",
        "\n",
        "# y_preds = model_0(X_test)\n",
        "# y_preds\n",
        "# we use torch inderence mode to turn off gradient tracking, the normal code (code above has the gradient tracking enabled)\n",
        "\n",
        "# with torch.no_grad():\n",
        "#   y_preds = model_0(X_test)\n",
        "\n",
        "# y_preds\n",
        "\n",
        "# the functionality of no_grad & inference mode is the same, inf mode is a bit faster"
      ],
      "metadata": {
        "colab": {
          "base_uri": "https://localhost:8080/"
        },
        "id": "EwYFAptEp7Wb",
        "outputId": "c8c64276-848a-413c-a9c7-b7ed05200b21"
      },
      "execution_count": 7,
      "outputs": [
        {
          "output_type": "execute_result",
          "data": {
            "text/plain": [
              "tensor([[1.6208],\n",
              "        [1.6385],\n",
              "        [1.6561],\n",
              "        [1.6738],\n",
              "        [1.6914],\n",
              "        [1.7090],\n",
              "        [1.7267],\n",
              "        [1.7443],\n",
              "        [1.7620],\n",
              "        [1.7796]])"
            ]
          },
          "metadata": {},
          "execution_count": 7
        }
      ]
    },
    {
      "cell_type": "code",
      "source": [
        "plot_predictions(predictions=y_preds)"
      ],
      "metadata": {
        "colab": {
          "base_uri": "https://localhost:8080/",
          "height": 599
        },
        "id": "SD8GlSvqqn6L",
        "outputId": "d04ec898-800f-4c92-dc08-ec3f80aea659"
      },
      "execution_count": 8,
      "outputs": [
        {
          "output_type": "display_data",
          "data": {
            "text/plain": [
              "<Figure size 1000x700 with 1 Axes>"
            ],
            "image/png": "[encoded data removed]"
          },
          "metadata": {}
        }
      ]
    },
    {
      "cell_type": "markdown",
      "source": [
        "# **Training the Model**"
      ],
      "metadata": {
        "id": "ItMJFex3sg3E"
      }
    },
    {
      "cell_type": "code",
      "source": [
        "loss_fn =  nn.L1Loss()\n",
        "\n",
        "optimizer = torch.optim.SGD(params = model_0.parameters(),\n",
        "                            lr = 0.01) #lr = learning rate = possibly the important hyperparameter you can set."
      ],
      "metadata": {
        "id": "w2fQrv7rvnlo"
      },
      "execution_count": 9,
      "outputs": []
    },
    {
      "cell_type": "code",
      "source": [
        "torch.manual_seed(42)\n",
        "epochs = 100\n",
        "\n",
        "epoch_count = []\n",
        "loss_values = []\n",
        "test_loss_values = []\n",
        "\n",
        "  ### Train\n",
        "for epoch in range(epochs):\n",
        "  model_0.train()\n",
        "\n",
        "  y_pred = model_0(X_train)\n",
        "\n",
        "  loss = loss_fn(y_pred, y_train)\n",
        "  print(f\"Loss: {loss}\")\n",
        "\n",
        "  optimizer.zero_grad()\n",
        "\n",
        "  loss.backward()\n",
        "\n",
        "  optimizer.step()\n",
        "\n",
        "\n",
        "  ### Testing\n",
        "  model_0.eval()\n",
        "  with torch.inference_mode():\n",
        "    # 1. Do the forward pass\n",
        "    test_pred = model_0(X_test)\n",
        "\n",
        "    #2. Calculate the loss\n",
        "    test_loss = loss_fn(test_pred, y_test)\n",
        "\n",
        "  if epoch % 10 == 0:\n",
        "    epoch_count.append(epoch)\n",
        "    loss_values.append(loss)\n",
        "    test_loss_values.append(test_loss)\n",
        "    print(f\"Epoch: {epoch} | Loss: {loss} | Test loss: {test_loss}\")\n",
        "\n",
        "print(model_0.state_dict())"
      ],
      "metadata": {
        "colab": {
          "base_uri": "https://localhost:8080/"
        },
        "id": "oBroqaYcXVuO",
        "outputId": "523e7931-8775-4039-aae5-a1729fac2e5e"
      },
      "execution_count": 10,
      "outputs": [
        {
          "output_type": "stream",
          "name": "stdout",
          "text": [
            "Loss: 0.6860889196395874\n",
            "Epoch: 0 | Loss: 0.6860889196395874 | Test loss: 0.7637526988983154\n",
            "Loss: 0.6745679974555969\n",
            "Loss: 0.6630470156669617\n",
            "Loss: 0.6515260338783264\n",
            "Loss: 0.6400049924850464\n",
            "Loss: 0.6284840703010559\n",
            "Loss: 0.6169630289077759\n",
            "Loss: 0.6054420471191406\n",
            "Loss: 0.5939210653305054\n",
            "Loss: 0.5824000239372253\n",
            "Loss: 0.5708791017532349\n",
            "Epoch: 10 | Loss: 0.5708791017532349 | Test loss: 0.6290428042411804\n",
            "Loss: 0.5593580603599548\n",
            "Loss: 0.5478371381759644\n",
            "Loss: 0.5363161563873291\n",
            "Loss: 0.5247951149940491\n",
            "Loss: 0.5132741332054138\n",
            "Loss: 0.5017532110214233\n",
            "Loss: 0.4902321696281433\n",
            "Loss: 0.47871121764183044\n",
            "Loss: 0.4671902060508728\n",
            "Loss: 0.45566922426223755\n",
            "Epoch: 20 | Loss: 0.45566922426223755 | Test loss: 0.4943329691886902\n",
            "Loss: 0.4441482126712799\n",
            "Loss: 0.43262726068496704\n",
            "Loss: 0.4211062490940094\n",
            "Loss: 0.40958523750305176\n",
            "Loss: 0.3980643153190613\n",
            "Loss: 0.38654330372810364\n",
            "Loss: 0.375022292137146\n",
            "Loss: 0.36350134015083313\n",
            "Loss: 0.3519803285598755\n",
            "Loss: 0.34045934677124023\n",
            "Epoch: 30 | Loss: 0.34045934677124023 | Test loss: 0.35962313413619995\n",
            "Loss: 0.328938364982605\n",
            "Loss: 0.31741735339164734\n",
            "Loss: 0.3058963716030121\n",
            "Loss: 0.2943754196166992\n",
            "Loss: 0.2828544080257416\n",
            "Loss: 0.2713334262371063\n",
            "Loss: 0.25981244444847107\n",
            "Loss: 0.24829146265983582\n",
            "Loss: 0.23677048087120056\n",
            "Loss: 0.2252494841814041\n",
            "Epoch: 40 | Loss: 0.2252494841814041 | Test loss: 0.2249133139848709\n",
            "Loss: 0.21372847259044647\n",
            "Loss: 0.20220749080181122\n",
            "Loss: 0.19068653881549835\n",
            "Loss: 0.1791655272245407\n",
            "Loss: 0.16764454543590546\n",
            "Loss: 0.156123548746109\n",
            "Loss: 0.14460256695747375\n",
            "Loss: 0.1330815702676773\n",
            "Loss: 0.12156059592962265\n",
            "Loss: 0.1100396141409874\n",
            "Epoch: 50 | Loss: 0.1100396141409874 | Test loss: 0.09020347893238068\n",
            "Loss: 0.09851861745119095\n",
            "Loss: 0.0869976356625557\n",
            "Loss: 0.07547664642333984\n",
            "Loss: 0.06395565718412399\n",
            "Loss: 0.05243467539548874\n",
            "Loss: 0.04091368243098259\n",
            "Loss: 0.029392695054411888\n",
            "Loss: 0.017871711403131485\n",
            "Loss: 0.010616960003972054\n",
            "Loss: 0.009724985808134079\n",
            "Epoch: 60 | Loss: 0.009724985808134079 | Test loss: 0.020998019725084305\n",
            "Loss: 0.009325616993010044\n",
            "Loss: 0.00897279754281044\n",
            "Loss: 0.008620461449027061\n",
            "Loss: 0.008283796720206738\n",
            "Loss: 0.007935261353850365\n",
            "Loss: 0.007594785653054714\n",
            "Loss: 0.007250060793012381\n",
            "Loss: 0.00690577644854784\n",
            "Loss: 0.0065648676827549934\n",
            "Loss: 0.006216754671186209\n",
            "Epoch: 70 | Loss: 0.006216754671186209 | Test loss: 0.014099234715104103\n",
            "Loss: 0.005879654549062252\n",
            "Loss: 0.0055306581780314445\n",
            "Loss: 0.0051915524527430534\n",
            "Loss: 0.0048454562202095985\n",
            "Loss: 0.004502544645220041\n",
            "Loss: 0.004160256590694189\n",
            "Loss: 0.00381353497505188\n",
            "Loss: 0.003475042525678873\n",
            "Loss: 0.003126060124486685\n",
            "Loss: 0.002788322512060404\n",
            "Epoch: 80 | Loss: 0.002788322512060404 | Test loss: 0.005826681852340698\n",
            "Loss: 0.0024408488534390926\n",
            "Loss: 0.002099317265674472\n",
            "Loss: 0.0017560191918164492\n",
            "Loss: 0.001492114388383925\n",
            "Loss: 0.0019509084522724152\n",
            "Loss: 0.007095950655639172\n",
            "Loss: 0.004425036255270243\n",
            "Loss: 0.007095950655639172\n",
            "Loss: 0.004425036255270243\n",
            "Loss: 0.007095950655639172\n",
            "Epoch: 90 | Loss: 0.007095950655639172 | Test loss: 0.00754010071977973\n",
            "Loss: 0.004425036255270243\n",
            "Loss: 0.007095950655639172\n",
            "Loss: 0.004425036255270243\n",
            "Loss: 0.007095950655639172\n",
            "Loss: 0.004425036255270243\n",
            "Loss: 0.007095950655639172\n",
            "Loss: 0.004425036255270243\n",
            "Loss: 0.007095950655639172\n",
            "Loss: 0.004425036255270243\n",
            "OrderedDict([('weights', tensor([0.6977])), ('bias', tensor([0.3080]))])\n"
          ]
        }
      ]
    },
    {
      "cell_type": "markdown",
      "source": [
        "# **Plot Results**"
      ],
      "metadata": {
        "id": "D6iB0k_ylOxE"
      }
    },
    {
      "cell_type": "code",
      "source": [
        "# Plot the loss curves\n",
        "import numpy as np\n",
        "plt.plot(epoch_count, np.array(torch.tensor(loss_values).numpy()), label = \"train loss\")\n",
        "plt.plot(epoch_count, test_loss_values, label = \"test loss\")\n",
        "plt.title(\"Training and test loss curves\")\n",
        "plt.ylabel(\"Loss\")\n",
        "plt.xlabel(\"Epochs\")\n",
        "plt.legend()"
      ],
      "metadata": {
        "colab": {
          "base_uri": "https://localhost:8080/",
          "height": 489
        },
        "id": "vxmpNgtZlQuv",
        "outputId": "c2387fc4-ee64-4cfa-ca25-2bce027905f6"
      },
      "execution_count": 11,
      "outputs": [
        {
          "output_type": "execute_result",
          "data": {
            "text/plain": [
              "<matplotlib.legend.Legend at 0x7b976f24bca0>"
            ]
          },
          "metadata": {},
          "execution_count": 11
        },
        {
          "output_type": "display_data",
          "data": {
            "text/plain": [
              "<Figure size 640x480 with 1 Axes>"
            ],
            "image/png": "[encoded data removed]"
          },
          "metadata": {}
        }
      ]
    },
    {
      "cell_type": "code",
      "source": [
        "with torch.inference_mode():\n",
        "  y_pred_new = model_0(X_test)\n",
        "plot_predictions(predictions = y_pred_new)"
      ],
      "metadata": {
        "colab": {
          "base_uri": "https://localhost:8080/",
          "height": 599
        },
        "id": "xA9a_iMPlTw0",
        "outputId": "4d68c7d0-8070-4f10-c140-1b9bac80354f"
      },
      "execution_count": 12,
      "outputs": [
        {
          "output_type": "display_data",
          "data": {
            "text/plain": [
              "<Figure size 1000x700 with 1 Axes>"
            ],
            "image/png": "[encoded data removed]"
          },
          "metadata": {}
        }
      ]
    },
    {
      "cell_type": "markdown",
      "source": [
        "# **Saving the model**"
      ],
      "metadata": {
        "id": "d1N2EXRVlYpn"
      }
    },
    {
      "cell_type": "code",
      "source": [
        "# Saving our PyTorch model\n",
        "from pathlib import Path\n",
        "# 1. Create models directory\n",
        "MODEL_PATH = Path(\"models\")\n",
        "MODEL_PATH.mkdir(parents = True, exist_ok = True)\n",
        "\n",
        "# 2. Create model save path\n",
        "\n",
        "MODEL_NAME = \"01_pytorch_workflow_model_0.pth\"\n",
        "MODEL_SAVE_PATH = MODEL_PATH / MODEL_NAME\n",
        "\n",
        "# print(MODEL_SAVE_PATH)\n",
        "\n",
        "# 3. Save the model state dict\n",
        "print(f\"saving model to: {MODEL_SAVE_PATH} \")\n",
        "torch.save(obj = model_0.state_dict(),\n",
        "           f = MODEL_SAVE_PATH)"
      ],
      "metadata": {
        "colab": {
          "base_uri": "https://localhost:8080/"
        },
        "id": "CnQkLkX3lbcb",
        "outputId": "70702972-ccc9-4ce8-d202-8e4b221d0ce9"
      },
      "execution_count": 13,
      "outputs": [
        {
          "output_type": "stream",
          "name": "stdout",
          "text": [
            "saving model to: models/01_pytorch_workflow_model_0.pth \n"
          ]
        }
      ]
    },
    {
      "cell_type": "markdown",
      "source": [
        "# **Loading the saved model**"
      ],
      "metadata": {
        "id": "g5cSkFQ98DjR"
      }
    },
    {
      "cell_type": "code",
      "source": [
        "# Instantiate a new instance of our model (this will be instantiated with random weights)\n",
        "loaded_model_0 = LenearRegressionModel()\n",
        "\n",
        "# Load the state_dict of our saved model (this will update the new instance of our model with trained weights)\n",
        "loaded_model_0.load_state_dict(torch.load(f=MODEL_SAVE_PATH))"
      ],
      "metadata": {
        "colab": {
          "base_uri": "https://localhost:8080/"
        },
        "id": "od5OkUYR8GyA",
        "outputId": "121df2f6-f390-45e1-ea77-f923a4709e83"
      },
      "execution_count": 14,
      "outputs": [
        {
          "output_type": "execute_result",
          "data": {
            "text/plain": [
              "<All keys matched successfully>"
            ]
          },
          "metadata": {},
          "execution_count": 14
        }
      ]
    }
  ]
}